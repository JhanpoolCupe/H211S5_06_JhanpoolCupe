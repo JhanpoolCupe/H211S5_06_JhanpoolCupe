{
  "nbformat": 4,
  "nbformat_minor": 0,
  "metadata": {
    "colab": {
      "provenance": []
    },
    "kernelspec": {
      "name": "python3",
      "display_name": "Python 3"
    },
    "language_info": {
      "name": "python"
    }
  },
  "cells": [
    {
      "cell_type": "code",
      "execution_count": null,
      "metadata": {
        "id": "J5yhvoDGu7F9"
      },
      "outputs": [],
      "source": [
        "import pandas as pd\n",
        "import matplotlib.pyplot as plt\n",
        "from sklearn.linear_model import LogisticRegression\n",
        "from sklearn.model_selection import train_test_split\n",
        "from sklearn.metrics import accuracy_score, classification_report\n",
        "import seaborn as sns\n",
        "from sklearn.impute import SimpleImputer\n",
        "from google.colab import files"
      ]
    },
    {
      "cell_type": "code",
      "source": [
        "data_worlCupMatches = pd.read_csv(\"WorldCupMatches.csv\")\n",
        "data_worlCupPlayers = pd.read_csv(\"WorldCupPlayers.csv\")\n",
        "data_worlCups = pd.read_csv(\"WorldCups.csv\")"
      ],
      "metadata": {
        "id": "hsRhI9ycxi31"
      },
      "execution_count": null,
      "outputs": []
    },
    {
      "cell_type": "code",
      "source": [
        "print(\"Variables en WorldCupMatches.csv:\")\n",
        "print(data_worlCupMatches.columns)"
      ],
      "metadata": {
        "colab": {
          "base_uri": "https://localhost:8080/"
        },
        "id": "WytuEeqDyVsM",
        "outputId": "4a0b18a2-5e7e-4fbf-fd9f-4033443712fa"
      },
      "execution_count": null,
      "outputs": [
        {
          "output_type": "stream",
          "name": "stdout",
          "text": [
            "Variables en WorldCupMatches.csv:\n",
            "Index(['Year', 'Datetime', 'Stage', 'Stadium', 'City', 'Home Team Name',\n",
            "       'Home Team Goals', 'Away Team Goals', 'Away Team Name',\n",
            "       'Win conditions', 'Attendance', 'Half-time Home Goals',\n",
            "       'Half-time Away Goals', 'Referee', 'Assistant 1', 'Assistant 2',\n",
            "       'RoundID', 'MatchID', 'Home Team Initials', 'Away Team Initials'],\n",
            "      dtype='object')\n"
          ]
        }
      ]
    },
    {
      "cell_type": "code",
      "source": [
        "print(\"Variables en WorldCupPlayers.csv:\")\n",
        "print(data_worlCupPlayers.columns)"
      ],
      "metadata": {
        "colab": {
          "base_uri": "https://localhost:8080/"
        },
        "id": "9Lk-chB3-_hl",
        "outputId": "09fa0f21-fd78-4b8d-edc1-ee01c20308c3"
      },
      "execution_count": null,
      "outputs": [
        {
          "output_type": "stream",
          "name": "stdout",
          "text": [
            "Variables en WorldCupPlayers.csv:\n",
            "Index(['RoundID', 'MatchID', 'Team Initials', 'Coach Name', 'Line-up',\n",
            "       'Shirt Number', 'Player Name', 'Position', 'Event'],\n",
            "      dtype='object')\n"
          ]
        }
      ]
    },
    {
      "cell_type": "code",
      "source": [
        "print(\"Variables en WorldCups.csv:\")\n",
        "print(data_worlCups.columns)"
      ],
      "metadata": {
        "colab": {
          "base_uri": "https://localhost:8080/"
        },
        "id": "lbqP2QB-_B39",
        "outputId": "dea82197-51f2-412f-e53f-b030943eb262"
      },
      "execution_count": null,
      "outputs": [
        {
          "output_type": "stream",
          "name": "stdout",
          "text": [
            "Variables en WorldCups.csv:\n",
            "Index(['Year', 'Country', 'Winner', 'Runners-Up', 'Third', 'Fourth',\n",
            "       'GoalsScored', 'QualifiedTeams', 'MatchesPlayed', 'Attendance'],\n",
            "      dtype='object')\n"
          ]
        }
      ]
    },
    {
      "cell_type": "markdown",
      "source": [],
      "metadata": {
        "id": "MzInYsq6yU30"
      }
    },
    {
      "cell_type": "code",
      "source": [
        "sns.histplot(data_worlCupMatches['Home Team Goals'], bins=10, label='Home Team Goals')\n",
        "sns.histplot(data_worlCupMatches['Away Team Goals'], bins=10, label='Away Team Goals')\n",
        "plt.title(\"Distribución de goles de partidos\")\n",
        "plt.xlabel(\"Goles\")\n",
        "plt.ylabel(\"Frecuencia\")\n",
        "plt.legend()\n",
        "plt.show()"
      ],
      "metadata": {
        "colab": {
          "base_uri": "https://localhost:8080/",
          "height": 472
        },
        "id": "xFAOAT4E8kbl",
        "outputId": "8125bec6-e1e4-4b7f-a89e-6e8a52ac4c85"
      },
      "execution_count": null,
      "outputs": [
        {
          "output_type": "display_data",
          "data": {
            "text/plain": [
              "<Figure size 640x480 with 1 Axes>"
            ],
            "image/png": "[encoded data removed]"
          },
          "metadata": {}
        }
      ]
    },
    {
      "cell_type": "code",
      "source": [
        "# Aplicar técnicas de clasificación o regresión\n",
        "\n",
        "# Eliminar filas con valores faltantes\n",
        "data_worlCupMatches.dropna(inplace=True)\n",
        "\n",
        "# Preparar los datos para un modelo de clasificación\n",
        "features = data_worlCupMatches[['Home Team Goals', 'Away Team Goals']]\n",
        "target = data_worlCupMatches['Stage']\n",
        "X_train, X_test, y_train, y_test = train_test_split(features, target, test_size=0.2, random_state=42)\n",
        "\n",
        "# Entrenar un modelo de regresión logística\n",
        "model = LogisticRegression()\n",
        "model.fit(X_train, y_train)\n",
        "\n",
        "# Realizar predicciones en el conjunto de prueba\n",
        "y_pred = model.predict(X_test)\n",
        "\n",
        "# Calcular la precisión del modelo\n",
        "accuracy = accuracy_score(y_test, y_pred)\n",
        "print(\"\\nPrecisión del modelo de regresión logística:\", accuracy)\n",
        "\n",
        "# Mostrar el informe de clasificación\n",
        "classification_report = classification_report(y_test, y_pred)\n",
        "print(\"\\nInforme de clasificación:\\n\", classification_report)"
      ],
      "metadata": {
        "colab": {
          "base_uri": "https://localhost:8080/"
        },
        "id": "623a7hCs9EYF",
        "outputId": "6fb36015-b526-4127-9f6f-826d4b7c518b"
      },
      "execution_count": null,
      "outputs": [
        {
          "output_type": "stream",
          "name": "stdout",
          "text": [
            "\n",
            "Precisión del modelo de regresión logística: 0.08823529411764706\n",
            "\n",
            "Informe de clasificación:\n",
            "                           precision    recall  f1-score   support\n",
            "\n",
            "                   Final       0.00      0.00      0.00         1\n",
            "             First round       0.00      0.00      0.00         1\n",
            "                 Group 1       0.07      0.09      0.08        11\n",
            "                 Group 2       0.07      0.14      0.10        14\n",
            "                 Group 3       0.00      0.00      0.00        15\n",
            "                 Group 4       0.00      0.00      0.00         9\n",
            "                 Group 5       0.00      0.00      0.00         1\n",
            "                 Group 6       0.00      0.00      0.00         1\n",
            "                 Group A       0.11      0.36      0.16        11\n",
            "                 Group B       0.29      0.17      0.21        12\n",
            "                 Group C       0.00      0.00      0.00        10\n",
            "                 Group D       0.00      0.00      0.00         9\n",
            "                 Group E       0.00      0.00      0.00        10\n",
            "                 Group F       0.00      0.00      0.00        12\n",
            "                 Group G       0.00      0.00      0.00         6\n",
            "                 Group H       0.00      0.00      0.00         4\n",
            "   Match for third place       0.00      0.00      0.00         4\n",
            "Play-off for third place       0.00      0.00      0.00         1\n",
            "       Preliminary round       0.00      0.00      0.00         1\n",
            "          Quarter-finals       0.06      0.17      0.09        12\n",
            "             Round of 16       0.08      0.27      0.13        15\n",
            "             Semi-finals       0.00      0.00      0.00         9\n",
            "             Third place       0.00      0.00      0.00         1\n",
            "\n",
            "                accuracy                           0.09       170\n",
            "               macro avg       0.03      0.05      0.03       170\n",
            "            weighted avg       0.05      0.09      0.06       170\n",
            "\n"
          ]
        },
        {
          "output_type": "stream",
          "name": "stderr",
          "text": [
            "/usr/local/lib/python3.10/dist-packages/sklearn/linear_model/_logistic.py:458: ConvergenceWarning: lbfgs failed to converge (status=1):\n",
            "STOP: TOTAL NO. of ITERATIONS REACHED LIMIT.\n",
            "\n",
            "Increase the number of iterations (max_iter) or scale the data as shown in:\n",
            "    https://scikit-learn.org/stable/modules/preprocessing.html\n",
            "Please also refer to the documentation for alternative solver options:\n",
            "    https://scikit-learn.org/stable/modules/linear_model.html#logistic-regression\n",
            "  n_iter_i = _check_optimize_result(\n",
            "/usr/local/lib/python3.10/dist-packages/sklearn/metrics/_classification.py:1344: UndefinedMetricWarning: Precision and F-score are ill-defined and being set to 0.0 in labels with no predicted samples. Use `zero_division` parameter to control this behavior.\n",
            "  _warn_prf(average, modifier, msg_start, len(result))\n",
            "/usr/local/lib/python3.10/dist-packages/sklearn/metrics/_classification.py:1344: UndefinedMetricWarning: Precision and F-score are ill-defined and being set to 0.0 in labels with no predicted samples. Use `zero_division` parameter to control this behavior.\n",
            "  _warn_prf(average, modifier, msg_start, len(result))\n",
            "/usr/local/lib/python3.10/dist-packages/sklearn/metrics/_classification.py:1344: UndefinedMetricWarning: Precision and F-score are ill-defined and being set to 0.0 in labels with no predicted samples. Use `zero_division` parameter to control this behavior.\n",
            "  _warn_prf(average, modifier, msg_start, len(result))\n"
          ]
        }
      ]
    },
    {
      "cell_type": "code",
      "source": [],
      "metadata": {
        "id": "kDodHKVf9e3M"
      },
      "execution_count": null,
      "outputs": []
    },
    {
      "cell_type": "code",
      "source": [],
      "metadata": {
        "id": "tarx00Em9hCE"
      },
      "execution_count": null,
      "outputs": []
    }
  ]
}